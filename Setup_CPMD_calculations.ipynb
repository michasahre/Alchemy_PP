{
 "cells": [
  {
   "cell_type": "markdown",
   "id": "e5cea19c-7f75-4ec8-89bf-37070cc7da80",
   "metadata": {},
   "source": [
    "### Calculation of $E(\\lambda)$, $\\rho_\\lambda$ for CH3NH2 at $\\lambda = 0.9$\n",
    "Example code to set up the calculation of the density at $\\lambda = 0.8$\n",
    "for CH3NH2. The restart file of this calculation can then be used to calculate the partial derivatives\n",
    "$\\frac{\\partial E_I}{\\partial \\lambda}$ via finite differences (Eq.(16) in the paper) or perturbatively (Eq.(18))."
   ]
  },
  {
   "cell_type": "code",
   "execution_count": null,
   "id": "d7d6ad70-e0ed-45c6-862e-83aecebaaea0",
   "metadata": {},
   "outputs": [],
   "source": [
    "import sys\n",
    "sys.path.insert(0,'.')\n",
    "import AlchemyCPMD as ac\n",
    "import os\n",
    "import ase.io as aio\n",
    "import numpy as np"
   ]
  },
  {
   "cell_type": "code",
   "execution_count": null,
   "id": "ae9d555c-399e-49a2-ace0-3aa68f3f1558",
   "metadata": {},
   "outputs": [],
   "source": [
    "# read in the xyz-file of the compound\n",
    "xyz_path = './CH3NH2_lam0.9_ref/GEOMETRY.xyz'\n",
    "mol = aio.read(xyz_path)\n",
    "atom_indices = np.arange(len(mol))\n",
    "# parameters for the DFT calculations\n",
    "parameter_dict = {}\n",
    "parameter_dict['cell absolute'] = 18.076066981314224 # length of cubic cell in angstrom\n",
    "# value of coupling variable lambda in H(lambda) = lambda*H^mol + (1-lambda)*H^ref\n",
    "parameter_dict['lval'] = 0.9\n",
    "# path to input-file template with certain parameters predefined \n",
    "# the template for lval < 0.5 uses a random initial guess because the default intial guess can not always be\n",
    "# generated for small lambda-values\n",
    "if parameter_dict['lval'] < 0.5: \n",
    "    parameter_dict['template_path'] = './input_templates/cpmd_template_random_guess.inp'\n",
    "else:\n",
    "    parameter_dict['template_path'] = './input_templates/cpmd_template.inp'\n",
    "# directory where pp-files are stored\n",
    "parameter_dict['pp_dir'] = './PP_Goedecker_Krack/pbe'\n",
    "# suffix of pp-files\n",
    "parameter_dict['pp_type'] = '.gth'\n",
    "\n",
    "parameter_dict['xyz'] = xyz_path # path to xyz file of compound\n",
    "# directory where input-file and pp-files will be written to (created via os.makedirs(exist_ok=True))\n",
    "parameter_dict['run_dir'] = './CH3NH2_lam0.9'\n",
    "\n",
    "# create SetupCPMD object\n",
    "cpmd = ac.SetupCPMD(parameter_dict)\n",
    "# create directory with input and pp-files for the CPMD single point calculation\n",
    "cpmd.setup_cpmd_calculation()\n",
    "# the CPMD calculation can be started using the commands as described in the CPMD manual, \n",
    "# e.g. by executing in parameter_dict['run_dir'] following command:\n",
    "# mpirun -n num_cores path2cpmd.x/cpmd.x run.inp > run.log &"
   ]
  },
  {
   "cell_type": "markdown",
   "id": "25b5613f-2bda-4490-9b6d-23b3636bcde1",
   "metadata": {},
   "source": [
    "### Central finite difference calculation Eq.(16)\n",
    "Example code to set up a central finite difference calculation with $\\Delta \\lambda = 5\\cdot 10^{-5}$ for N in CH3NH2 at $\\lambda = 0.8$ as given in Eq.(16) in the paper. \n",
    "This requires that a restart-file exists (can be generated with code above)."
   ]
  },
  {
   "cell_type": "code",
   "execution_count": null,
   "id": "f12fb820-d25a-48f7-9722-4551e0324ccd",
   "metadata": {},
   "outputs": [],
   "source": [
    "import sys\n",
    "sys.path.insert(0,'.')\n",
    "import AlchemyCPMD as ac\n",
    "import os\n",
    "import ase.io as aio\n",
    "import numpy as np"
   ]
  },
  {
   "cell_type": "code",
   "execution_count": null,
   "id": "8c7afe2d-7f3d-48b8-9d88-ea6c8329e2e0",
   "metadata": {},
   "outputs": [],
   "source": [
    "# read in the xyz-file of the compound\n",
    "xyz_path = './CH3NH2_lam0.9_ref/GEOMETRY.xyz'\n",
    "mol = aio.read(xyz_path)\n",
    "atom_indices = np.arange(len(mol))\n",
    "# parameters for the DFT calculations\n",
    "parameter_dict = {}\n",
    "parameter_dict['cell absolute'] = 18.076066981314224 # length of cubic cell in angstrom\n",
    "\n",
    "# path to input-file template with certain parameters predefined\n",
    "# IMPORTANT: should be changed depending on type of calculation\n",
    "parameter_dict['template_path'] = './input_templates/cpmd_template_fd.inp'\n",
    "# sufix of pp-files\n",
    "parameter_dict['pp_type'] = '.gth'\n",
    "# directory where pp-files are stored\n",
    "parameter_dict['pp_dir'] = './PP_Goedecker_Krack/pbe'\n",
    "\n",
    "parameter_dict['xyz'] = xyz_path # path to xyz file of compound\n",
    "# value of coupling variable lambda in H(lambda) = lambda*H^mol + (1-lambda)*H^ref\n",
    "parameter_dict['lval'] = 0.9\n",
    "# directory where input-file and pp-files will be written to (created via os.makedirs(exist_ok=True))\n",
    "parameter_dict['run_dir'] = './CH3NH2_lam0.9_fd_fw'\n",
    "# index of atom for which potential is V_I(\\lambda+\\Delta \\lambda)\n",
    "parameter_dict['atom_fd'] = 1\n",
    "parameter_dict['dlam_fd'] = 5e-5 # value \\Delta \\lambda, change to -5e-5 for the backwards derivative\n",
    "# restart file of converged system at lambda = 0.9\n",
    "parameter_dict['restart_src'] = './CH3NH2_lam0.9_ref/RESTART.1'\n",
    "assert os.path.isfile(parameter_dict['restart_src']), 'RESTART file at {} does not exist'.format(parameter_dict['restart_src'])\n",
    "parameter_dict['restart_dest'] = os.path.join(parameter_dict['run_dir'], 'RESTART')\n",
    "\n",
    "\n",
    "# create SetupCPMD object\n",
    "cpmd = ac.SetupCPMD(parameter_dict)\n",
    "# create directory with input and pp-files for the CPMD single point calculation\n",
    "cpmd.setup_cpmd_calculation()\n",
    "# the CPMD calculation can be started using the commands as described in the CPMD manual, \n",
    "# e.g. by executing in parameter_dict['run_dir'] following command:\n",
    "# mpirun -n num_cores path2cpmd.x/cpmd.x run.inp > run.log &"
   ]
  },
  {
   "cell_type": "markdown",
   "id": "9bb08366-9fe1-43f5-aab1-e73b47607607",
   "metadata": {},
   "source": [
    "### Perturbative derivative Eq.(18)\n",
    "Example code to set up perturbative calculations for N in CH3NH2 at $\\lambda = 0.8$ as given in Eq.(18) in the paper.\n",
    "This requires that a restart-file exists (can be generated with code above)."
   ]
  },
  {
   "cell_type": "code",
   "execution_count": null,
   "id": "61fbe886-b061-47a6-943f-53d5541f0900",
   "metadata": {},
   "outputs": [],
   "source": [
    "import sys\n",
    "sys.path.insert(0,'.')\n",
    "import AlchemyCPMD as ac\n",
    "import os\n",
    "import ase.io as aio\n",
    "import numpy as np"
   ]
  },
  {
   "cell_type": "code",
   "execution_count": null,
   "id": "84f193fd-8e68-49dc-a5ba-b8fdfb1e2b05",
   "metadata": {},
   "outputs": [],
   "source": [
    "# read in the xyz-file of the compound\n",
    "xyz_path = './CH3NH2_lam0.9_ref/GEOMETRY.xyz'\n",
    "mol = aio.read(xyz_path)\n",
    "atom_indices = np.arange(len(mol))\n",
    "# parameters for the DFT calculations\n",
    "parameter_dict = {}\n",
    "parameter_dict['cell absolute'] = 18.076066981314224 # length of cubic cell in angstrom\n",
    "\n",
    "# path to input-file template with certain parameters predefined\n",
    "# IMPORTANT: should be changed depending on type of calculation\n",
    "parameter_dict['template_path'] = './input_templates/cpmd_template_pert.inp'\n",
    "# sufix of pp-files\n",
    "parameter_dict['pp_type'] = '.gth'\n",
    "# directory where pp-files are stored\n",
    "parameter_dict['pp_dir'] = './PP_Goedecker_Krack/pbe'\n",
    "\n",
    "parameter_dict['xyz'] = xyz_path # path to xyz file of compound\n",
    "# value of coupling variable lambda in H(lambda) = lambda*H^mol + (1-lambda)*H^ref\n",
    "parameter_dict['lval'] = 0.9\n",
    "# directory where input-file and pp-files will be written to (created via os.makedirs(exist_ok=True))\n",
    "parameter_dict['run_dir'] = './CH3NH2_lam0.9_pert_fw'\n",
    "# index of atom for which potential is V_I(\\lambda+\\Delta \\lambda)\n",
    "parameter_dict['atom_fd'] = 1\n",
    "parameter_dict['dlam_fd'] = 5e-5 # value \\Delta \\lambda, change to -5e-5 for the backwards derivative\n",
    "# restart file of converged system at lambda = 0.9\n",
    "parameter_dict['restart_src'] = './CH3NH2_lam0.9_ref/RESTART.1'\n",
    "assert os.path.isfile(parameter_dict['restart_src']), 'RESTART file at {} does not exist'.format(parameter_dict['restart_src'])\n",
    "parameter_dict['restart_dest'] = os.path.join(parameter_dict['run_dir'], 'RESTART')\n",
    "\n",
    "\n",
    "# create SetupCPMD object\n",
    "cpmd = ac.SetupCPMD(parameter_dict)\n",
    "# create directory with input and pp-files for the CPMD single point calculation\n",
    "cpmd.setup_cpmd_calculation()\n",
    "# the CPMD calculation can be started using the commands as described in the CPMD manual, \n",
    "# e.g. by executing in parameter_dict['run_dir'] following command:\n",
    "# mpirun -n num_cores path2cpmd.x/cpmd.x run.inp > run.log &"
   ]
  }
 ],
 "metadata": {
  "kernelspec": {
   "display_name": "Python [conda env:qm-tools] *",
   "language": "python",
   "name": "conda-env-qm-tools-py"
  },
  "language_info": {
   "codemirror_mode": {
    "name": "ipython",
    "version": 3
   },
   "file_extension": ".py",
   "mimetype": "text/x-python",
   "name": "python",
   "nbconvert_exporter": "python",
   "pygments_lexer": "ipython3",
   "version": "3.9.10"
  }
 },
 "nbformat": 4,
 "nbformat_minor": 5
}
